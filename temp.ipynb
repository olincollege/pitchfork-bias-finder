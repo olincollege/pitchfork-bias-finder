{
 "cells": [
  {
   "cell_type": "code",
   "execution_count": null,
   "metadata": {},
   "outputs": [],
   "source": [
    "import pandas as pd\n",
    "\n",
    "df1 = pd.read_csv(\"global_final.csv\")\n",
    "df2 = pd.read_csv(\"data/global_pitchfork.csv\")\n",
    "\n",
    "df1.merge(df2, on = )"
   ]
  }
 ],
 "metadata": {
  "language_info": {
   "name": "python"
  },
  "orig_nbformat": 4
 },
 "nbformat": 4,
 "nbformat_minor": 2
}
